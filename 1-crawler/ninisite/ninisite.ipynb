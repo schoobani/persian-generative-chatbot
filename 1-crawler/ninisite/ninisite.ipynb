{
 "cells": [
  {
   "cell_type": "code",
   "execution_count": null,
   "metadata": {},
   "outputs": [],
   "source": [
    "from bs4 import BeautifulSoup\n",
    "from urllib.request import urlopen\n",
    "import json\n",
    "from tqdm import tqdm"
   ]
  },
  {
   "cell_type": "code",
   "execution_count": null,
   "metadata": {},
   "outputs": [],
   "source": [
    "def get_topic_url(soup):\n",
    "    topic_urls = []\n",
    "    for i, title in enumerate(soup.find_all('div',{'class':'category--header'})):\n",
    "        icon = True if title.find('i') else False\n",
    "        if not icon:\n",
    "            if int(title.find('span',{'class':'topic_number'}).text) > 5:\n",
    "                topic_urls.append(\n",
    "                    {\n",
    "                    'title':title.find('a').text.strip(),\n",
    "                    'url':title.find('a')['href'].strip()\n",
    "                }\n",
    "                )\n",
    "    return topic_urls"
   ]
  },
  {
   "cell_type": "code",
   "execution_count": null,
   "metadata": {},
   "outputs": [],
   "source": [
    "with open('topics/shop-cloths.jsonl', 'a', encoding=\"utf-8\") as outfile:\n",
    "    for n in tqdm(range(1+681+405, 1155)):\n",
    "        category_topics_url_string = 'https://www.ninisite.com/discussion/forum/89/%d9%be%d9%88%d8%b4%d8%a7%da%a9'\n",
    "        category_topics_url = urlopen(category_topics_url_string+f'?page={n}')\n",
    "        category_topics = category_topics_url.read()\n",
    "        category_topics_soup = BeautifulSoup(category_topics, 'html.parser')\n",
    "        topic_urls = get_topic_url(category_topics_soup)\n",
    "        for url in topic_urls:\n",
    "            json.dump(url, outfile, ensure_ascii=False)\n",
    "            outfile.write('\\n')"
   ]
  },
  {
   "cell_type": "code",
   "execution_count": null,
   "metadata": {},
   "outputs": [],
   "source": [
    "with open('topics/shop-toys.jsonl') as json_file:\n",
    "    data = json_file.readlines()\n",
    "    data = [d.strip() for d in data]"
   ]
  },
  {
   "cell_type": "code",
   "execution_count": null,
   "metadata": {},
   "outputs": [],
   "source": [
    "topic_url_string ='https://ninisite.com/'+eval(data[0])['url']\n",
    "topic_url = urlopen(topic_url_string+'?page=1')\n",
    "topic_content = topic_url.read()\n",
    "topic_soup = BeautifulSoup(topic_content, 'html.parser')\n",
    "pagination = topic_soup.find_all('a',{'class':'page-link'}) \n",
    "pages = 1 if len(pagination) == 0 else int(pagination[-2].text)"
   ]
  },
  {
   "cell_type": "code",
   "execution_count": null,
   "metadata": {},
   "outputs": [],
   "source": [
    "conv = []\n",
    "for p in tqdm(range(1,pages+1)):\n",
    "    if pages > 1:\n",
    "        topic_url = urlopen(topic_url_string+f'?page={p}')\n",
    "        topic_content = topic_url.read()\n",
    "        topic_soup = BeautifulSoup(topic_content, 'html.parser')\n",
    "\n",
    "    for i, article in enumerate(topic_soup.find_all('article')):\n",
    "        message = [p.text for p in article.find('div',{'class':'post-message'}).find_all('p')]\n",
    "\n",
    "        reply_message_div = article.find('div',{'class':'reply-message'})\n",
    "        reply_message_text = reply_message_div.text if reply_message_div else None\n",
    "        \n",
    "        if reply_message_text != None:\n",
    "            if len(reply_message_text)  < 90:\n",
    "                reply_message = reply_message_text\n",
    "            else:\n",
    "                reply_message_id = reply_message_div['data-id'] if reply_message_div else None\n",
    "                \n",
    "                if reply_message_id != None:\n",
    "                    reply_message = topic_soup.find('article', attrs={'id':f'post-{reply_message_id}'})\n",
    "                    \n",
    "                    if reply_message != None:\n",
    "                        reply_message = [p.text for p in reply_message.find('div',{'class':'post-message'}).find_all('p')]\n",
    "                    else:\n",
    "                        reply_message_url_string = topic_url_string+f'?postId={reply_message_id}'\n",
    "                        reply_message_url = urlopen(reply_message_url_string)\n",
    "                        reply_message_content = reply_message_url.read()\n",
    "                        reply_message_soup = BeautifulSoup(reply_message_content, 'html.parser')\n",
    "                        reply_message = reply_message_soup.find('article', attrs={'id':f'post-{reply_message_id}'})\n",
    "                        reply_message = [p.text for p in reply_message.find('div',{'class':'post-message'}).find_all('p')]\n",
    "        else:\n",
    "            reply_message = topic_soup.find('article', attrs={'id':'topic'})\n",
    "            reply_message_title = topic_soup.find('article', attrs={'id':'topic'}).find('h1',{'class':'topic-title'}).find('a').text\n",
    "            reply_message = [p.text for p in reply_message.find('div',{'class':'post-message'}).find_all('p')]\n",
    "\n",
    "        if i != 0:\n",
    "            conv.append(\n",
    "                {\n",
    "                    \"topic\": reply_message_title,\n",
    "                    \"question\":reply_message,\n",
    "                    \"answer\":message,\n",
    "                }\n",
    "            )"
   ]
  },
  {
   "cell_type": "code",
   "execution_count": null,
   "metadata": {},
   "outputs": [],
   "source": [
    "import os\n",
    "categories_url_path = os.listdir('topics')\n",
    "\n",
    "all_topics = []\n",
    "for cat in categories_url_path:\n",
    "    with open(f'topics/{cat}') as jsonl:\n",
    "        topics = jsonl.readlines()\n",
    "        for d in topics:\n",
    "            all_topics.append(d.strip())\n"
   ]
  },
  {
   "cell_type": "code",
   "execution_count": null,
   "metadata": {},
   "outputs": [],
   "source": [
    "from os.path import isfile, join\n",
    "from os import listdir\n",
    "\n",
    "def get_urls(path):\n",
    "    categories_url_path =  [f for f in listdir(path) if isfile(join(path, f))]\n",
    "    all_topics = []\n",
    "    for cat in categories_url_path:\n",
    "        with open(f'topics/{cat}') as jsonl:\n",
    "            topics = jsonl.readlines()\n",
    "            for d in topics:\n",
    "                all_topics.append((cat, d.strip()))\n",
    "    return list(set(all_topics))\n",
    "\n",
    "def get_crawled(path):\n",
    "    with open(path) as jsonl:\n",
    "        craweld_topics = jsonl.readlines()\n",
    "        craweld_topics = [t.strip() for t in craweld_topics]\n",
    "    return craweld_topics"
   ]
  },
  {
   "cell_type": "code",
   "execution_count": null,
   "metadata": {},
   "outputs": [],
   "source": [
    "all_topics = get_urls('topics')\n",
    "craweld_topics = get_crawled('crawled_topics.jsonl')\n"
   ]
  },
  {
   "cell_type": "code",
   "execution_count": null,
   "metadata": {},
   "outputs": [],
   "source": [
    "craweld_topics"
   ]
  },
  {
   "cell_type": "code",
   "execution_count": null,
   "metadata": {},
   "outputs": [],
   "source": [
    "all_topics"
   ]
  },
  {
   "cell_type": "code",
   "execution_count": null,
   "metadata": {},
   "outputs": [],
   "source": [
    "test = 'تنهاس تنهایی بد دردی چقد خانواده شوهرم نیش بهم زدن چقد غربت سخته .بچم با سهل انگار دکترم مرد .......'\n",
    "len(test)"
   ]
  },
  {
   "cell_type": "code",
   "execution_count": null,
   "metadata": {},
   "outputs": [],
   "source": []
  },
  {
   "cell_type": "code",
   "execution_count": null,
   "metadata": {},
   "outputs": [],
   "source": []
  }
 ],
 "metadata": {
  "interpreter": {
   "hash": "52389f367d36b411e9e69441fcbbf01aa815d7c6902df95cf305337c55d88743"
  },
  "kernelspec": {
   "display_name": "Python 3.9.0 64-bit ('Pv9')",
   "language": "python",
   "name": "python3"
  },
  "language_info": {
   "codemirror_mode": {
    "name": "ipython",
    "version": 3
   },
   "file_extension": ".py",
   "mimetype": "text/x-python",
   "name": "python",
   "nbconvert_exporter": "python",
   "pygments_lexer": "ipython3",
   "version": "3.9.0"
  },
  "orig_nbformat": 4
 },
 "nbformat": 4,
 "nbformat_minor": 2
}
